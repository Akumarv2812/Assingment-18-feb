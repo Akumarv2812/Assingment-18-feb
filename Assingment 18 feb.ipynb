{
 "cells": [
  {
   "cell_type": "code",
   "execution_count": null,
   "id": "033ba7c5-3e08-4608-8e03-f60dbd1a7234",
   "metadata": {},
   "outputs": [],
   "source": [
    "#Answer:1\n",
    "APIs are used by retail companies to connect with courier networks, ensuring that shipments are picked up as soon as possible and tracked as they move. APIs are used in web applications to connect user-facing front ends with critical back-end functionality and data."
   ]
  },
  {
   "cell_type": "code",
   "execution_count": null,
   "id": "6d3fed34-710b-49c4-b55a-af3b16700bdc",
   "metadata": {},
   "outputs": [],
   "source": [
    "#Answer:2\n",
    "Developing with Business Capability APIs: Adv. & Dis.\n",
    "Pro: No More Drowning in Details.\n",
    "Adv: Simplifying Unnecessary Complexities for Speed.\n",
    "Dis: More Generation = Loss of Control.\n",
    "Adv: Lighter Load for DevOps.\n",
    "Adv: Greater Alignment.\n",
    "Dis: Yet Another Change."
   ]
  },
  {
   "cell_type": "code",
   "execution_count": null,
   "id": "42fdfae4-be00-4280-8475-99e19fafbf6b",
   "metadata": {},
   "outputs": [],
   "source": [
    "#Answer:3\n",
    "Web API is a System to System interaction, in which the data or information from one system can be accessed by another system, after the completion of execution the resultant data or we can say as output is shown to the viewer.\n",
    "Web service is used for REST, SOAP, and XML-RPC for communication, while API is used for any style of communication.\n",
    "Web service supports only HTTP protocol, whereas API supports HTTP/HTTPS protocol.\n",
    "Web service supports XML, while API supports XML and JSON.\n",
    "All Web services are APIs, but all APIs are not web services."
   ]
  },
  {
   "cell_type": "code",
   "execution_count": null,
   "id": "86a52c8d-5e84-4478-8eb0-6b2aed8a3ab5",
   "metadata": {},
   "outputs": [],
   "source": [
    "#Answer:4\n",
    "SOAP (Simple Object Access Protocol) is a standards-based web services access protocol that has been around for a long time. Originally developed by Microsoft, SOAP isn’t as simple as the acronym would suggest.\n",
    "\n",
    "REST (Representational State Transfer) is another standard, made in response to SOAP’s shortcomings. It seeks to fix the problems with SOAP and provide a simpler method of accessing web services. "
   ]
  },
  {
   "cell_type": "code",
   "execution_count": null,
   "id": "0f73f30d-1d21-4e74-8a08-9d3e1047a176",
   "metadata": {},
   "outputs": [],
   "source": [
    "#Answer:5\n"
   ]
  }
 ],
 "metadata": {
  "kernelspec": {
   "display_name": "Python 3 (ipykernel)",
   "language": "python",
   "name": "python3"
  },
  "language_info": {
   "codemirror_mode": {
    "name": "ipython",
    "version": 3
   },
   "file_extension": ".py",
   "mimetype": "text/x-python",
   "name": "python",
   "nbconvert_exporter": "python",
   "pygments_lexer": "ipython3",
   "version": "3.10.8"
  }
 },
 "nbformat": 4,
 "nbformat_minor": 5
}
